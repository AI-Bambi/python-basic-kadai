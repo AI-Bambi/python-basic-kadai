{
  "nbformat": 4,
  "nbformat_minor": 0,
  "metadata": {
    "colab": {
      "provenance": []
    },
    "kernelspec": {
      "name": "python3",
      "display_name": "Python 3"
    },
    "language_info": {
      "name": "python"
    }
  },
  "cells": [
    {
      "cell_type": "code",
      "execution_count": 20,
      "metadata": {
        "colab": {
          "base_uri": "https://localhost:8080/",
          "height": 35
        },
        "id": "8CI_jz1OL6fl",
        "outputId": "fa9a0765-acae-4d8a-d9fc-8540f83d39ea"
      },
      "outputs": [
        {
          "output_type": "execute_result",
          "data": {
            "text/plain": [
              "'会計は1100円です'"
            ],
            "application/vnd.google.colaboratory.intrinsic+json": {
              "type": "string"
            }
          },
          "metadata": {},
          "execution_count": 20
        }
      ],
      "source": [
        "def calculate_total(price,tax):\n",
        "    tax_amount = price * (tax/100)\n",
        "    total = price + tax_amount\n",
        "    return f\"会計は{int(total)}円です\"\n",
        "\n",
        "calculate_total(1000,10)"
      ]
    }
  ]
}