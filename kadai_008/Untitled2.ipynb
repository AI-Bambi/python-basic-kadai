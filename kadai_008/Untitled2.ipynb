{
  "nbformat": 4,
  "nbformat_minor": 0,
  "metadata": {
    "colab": {
      "provenance": []
    },
    "kernelspec": {
      "name": "python3",
      "display_name": "Python 3"
    },
    "language_info": {
      "name": "python"
    }
  },
  "cells": [
    {
      "cell_type": "code",
      "execution_count": 76,
      "metadata": {
        "colab": {
          "base_uri": "https://localhost:8080/"
        },
        "id": "bb7_Ob4F985M",
        "outputId": "5d7f0ac5-3c84-41d9-dce6-caec70997e97"
      },
      "outputs": [
        {
          "output_type": "stream",
          "name": "stdout",
          "text": [
            "FizzBuzz\n"
          ]
        }
      ],
      "source": [
        "import random\n",
        "var = random.randint(0,100)\n",
        "\n",
        "if var % 5 == 0 and var % 3 == 0:\n",
        "    print(\"FizzBuzz\")\n",
        "\n",
        "elif var % 5 == 0:\n",
        "    print(\"Buzz\")\n",
        "\n",
        "elif var % 3 ==0:\n",
        "    print(\"Fizz\")\n",
        "\n",
        "else:\n",
        "    print(var)\n"
      ]
    }
  ]
}