{
  "nbformat": 4,
  "nbformat_minor": 0,
  "metadata": {
    "colab": {
      "provenance": []
    },
    "kernelspec": {
      "name": "python3",
      "display_name": "Python 3"
    },
    "language_info": {
      "name": "python"
    }
  },
  "cells": [
    {
      "cell_type": "code",
      "execution_count": 8,
      "metadata": {
        "colab": {
          "base_uri": "https://localhost:8080/"
        },
        "id": "bb7_Ob4F985M",
        "outputId": "66f415ea-937f-46c3-aba9-83f0096c1e2d"
      },
      "outputs": [
        {
          "output_type": "stream",
          "name": "stdout",
          "text": [
            "31\n"
          ]
        }
      ],
      "source": [
        "import random\n",
        "var = random.randint(0,100)\n",
        "\n",
        "if var % 3 == 0:\n",
        "    print(\"Fizz\")\n",
        "\n",
        "elif var % 5 == 0:\n",
        "    print(\"Buzz\")\n",
        "\n",
        "else:\n",
        "    print(var)\n"
      ]
    }
  ]
}