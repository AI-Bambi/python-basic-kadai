{
  "nbformat": 4,
  "nbformat_minor": 0,
  "metadata": {
    "colab": {
      "provenance": []
    },
    "kernelspec": {
      "name": "python3",
      "display_name": "Python 3"
    },
    "language_info": {
      "name": "python"
    }
  },
  "cells": [
    {
      "cell_type": "code",
      "execution_count": 18,
      "metadata": {
        "colab": {
          "base_uri": "https://localhost:8080/"
        },
        "id": "z7YtEaW1eOeC",
        "outputId": "b6d59732-394a-48bd-9c52-ed062ab394b0"
      },
      "outputs": [
        {
          "output_type": "stream",
          "name": "stdout",
          "text": [
            "Aさんは大人です。\n",
            "Bさんは大人ではありません。\n",
            "Cさんは大人です。\n"
          ]
        }
      ],
      "source": [
        "class Human():\n",
        "    def __init__(self,name,age):\n",
        "        self.name = name\n",
        "        self.age = age\n",
        "\n",
        "    def check_adult(self):\n",
        "        if self.age >= 20:\n",
        "            print(f\"{self.name}さんは大人です。\")\n",
        "        else:\n",
        "            print(f\"{self.name}さんは大人ではありません。\")\n",
        "\n",
        "human1 = Human(\"A\",20)\n",
        "human2 = Human(\"B\",18)\n",
        "human3 = Human(\"C\",20)\n",
        "\n",
        "humans_list = [human1,human2,human3]\n",
        "\n",
        "for human in humans_list:\n",
        "    human.check_adult()"
      ]
    }
  ]
}